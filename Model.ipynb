{
 "cells": [
  {
   "cell_type": "code",
   "execution_count": 1,
   "metadata": {},
   "outputs": [],
   "source": [
    "import pandas as pd\n",
    "import numpy as np\n",
    "import sklearn\n",
    "import seaborn as sns\n",
    "import matplotlib.pyplot as plt\n",
    "from collections import defaultdict"
   ]
  },
  {
   "cell_type": "code",
   "execution_count": 3,
   "metadata": {},
   "outputs": [],
   "source": [
    "#path = r\"C:\\Users\\siddh\\Desktop\\MSA\\Acads\\ISyE 6414\\Project\"\n",
    "df_train = pd.read_csv(\"training_sample.csv\")\n",
    "df_test = pd.read_csv(\"testing_sample.csv\")"
   ]
  },
  {
   "cell_type": "code",
   "execution_count": 4,
   "metadata": {},
   "outputs": [
    {
     "data": {
      "text/html": [
       "<div>\n",
       "<style scoped>\n",
       "    .dataframe tbody tr th:only-of-type {\n",
       "        vertical-align: middle;\n",
       "    }\n",
       "\n",
       "    .dataframe tbody tr th {\n",
       "        vertical-align: top;\n",
       "    }\n",
       "\n",
       "    .dataframe thead th {\n",
       "        text-align: right;\n",
       "    }\n",
       "</style>\n",
       "<table border=\"1\" class=\"dataframe\">\n",
       "  <thead>\n",
       "    <tr style=\"text-align: right;\">\n",
       "      <th></th>\n",
       "      <th>basket_icon_click</th>\n",
       "      <th>basket_add_list</th>\n",
       "      <th>basket_add_detail</th>\n",
       "      <th>sort_by</th>\n",
       "      <th>image_picker</th>\n",
       "      <th>account_page_click</th>\n",
       "      <th>promo_banner_click</th>\n",
       "      <th>detail_wishlist_add</th>\n",
       "      <th>list_size_dropdown</th>\n",
       "      <th>closed_minibasket_click</th>\n",
       "      <th>...</th>\n",
       "      <th>saw_sizecharts</th>\n",
       "      <th>saw_delivery</th>\n",
       "      <th>saw_account_upgrade</th>\n",
       "      <th>saw_homepage</th>\n",
       "      <th>device_mobile</th>\n",
       "      <th>device_computer</th>\n",
       "      <th>device_tablet</th>\n",
       "      <th>returning_user</th>\n",
       "      <th>loc_uk</th>\n",
       "      <th>ordered</th>\n",
       "    </tr>\n",
       "  </thead>\n",
       "  <tbody>\n",
       "    <tr>\n",
       "      <th>0</th>\n",
       "      <td>0</td>\n",
       "      <td>0</td>\n",
       "      <td>0</td>\n",
       "      <td>0</td>\n",
       "      <td>0</td>\n",
       "      <td>0</td>\n",
       "      <td>0</td>\n",
       "      <td>0</td>\n",
       "      <td>0</td>\n",
       "      <td>0</td>\n",
       "      <td>...</td>\n",
       "      <td>0</td>\n",
       "      <td>0</td>\n",
       "      <td>0</td>\n",
       "      <td>0</td>\n",
       "      <td>1</td>\n",
       "      <td>0</td>\n",
       "      <td>0</td>\n",
       "      <td>0</td>\n",
       "      <td>1</td>\n",
       "      <td>0</td>\n",
       "    </tr>\n",
       "    <tr>\n",
       "      <th>1</th>\n",
       "      <td>0</td>\n",
       "      <td>0</td>\n",
       "      <td>0</td>\n",
       "      <td>0</td>\n",
       "      <td>0</td>\n",
       "      <td>0</td>\n",
       "      <td>0</td>\n",
       "      <td>0</td>\n",
       "      <td>0</td>\n",
       "      <td>0</td>\n",
       "      <td>...</td>\n",
       "      <td>0</td>\n",
       "      <td>0</td>\n",
       "      <td>0</td>\n",
       "      <td>0</td>\n",
       "      <td>1</td>\n",
       "      <td>0</td>\n",
       "      <td>0</td>\n",
       "      <td>0</td>\n",
       "      <td>1</td>\n",
       "      <td>0</td>\n",
       "    </tr>\n",
       "    <tr>\n",
       "      <th>2</th>\n",
       "      <td>0</td>\n",
       "      <td>0</td>\n",
       "      <td>0</td>\n",
       "      <td>0</td>\n",
       "      <td>0</td>\n",
       "      <td>0</td>\n",
       "      <td>0</td>\n",
       "      <td>0</td>\n",
       "      <td>0</td>\n",
       "      <td>0</td>\n",
       "      <td>...</td>\n",
       "      <td>0</td>\n",
       "      <td>0</td>\n",
       "      <td>0</td>\n",
       "      <td>0</td>\n",
       "      <td>1</td>\n",
       "      <td>0</td>\n",
       "      <td>0</td>\n",
       "      <td>1</td>\n",
       "      <td>1</td>\n",
       "      <td>0</td>\n",
       "    </tr>\n",
       "    <tr>\n",
       "      <th>3</th>\n",
       "      <td>0</td>\n",
       "      <td>0</td>\n",
       "      <td>0</td>\n",
       "      <td>0</td>\n",
       "      <td>0</td>\n",
       "      <td>0</td>\n",
       "      <td>0</td>\n",
       "      <td>0</td>\n",
       "      <td>0</td>\n",
       "      <td>0</td>\n",
       "      <td>...</td>\n",
       "      <td>0</td>\n",
       "      <td>0</td>\n",
       "      <td>0</td>\n",
       "      <td>0</td>\n",
       "      <td>1</td>\n",
       "      <td>0</td>\n",
       "      <td>0</td>\n",
       "      <td>1</td>\n",
       "      <td>1</td>\n",
       "      <td>0</td>\n",
       "    </tr>\n",
       "    <tr>\n",
       "      <th>4</th>\n",
       "      <td>0</td>\n",
       "      <td>1</td>\n",
       "      <td>0</td>\n",
       "      <td>1</td>\n",
       "      <td>0</td>\n",
       "      <td>0</td>\n",
       "      <td>0</td>\n",
       "      <td>0</td>\n",
       "      <td>1</td>\n",
       "      <td>0</td>\n",
       "      <td>...</td>\n",
       "      <td>0</td>\n",
       "      <td>0</td>\n",
       "      <td>0</td>\n",
       "      <td>1</td>\n",
       "      <td>0</td>\n",
       "      <td>0</td>\n",
       "      <td>1</td>\n",
       "      <td>0</td>\n",
       "      <td>1</td>\n",
       "      <td>1</td>\n",
       "    </tr>\n",
       "  </tbody>\n",
       "</table>\n",
       "<p>5 rows × 24 columns</p>\n",
       "</div>"
      ],
      "text/plain": [
       "   basket_icon_click  basket_add_list  basket_add_detail  sort_by  \\\n",
       "0                  0                0                  0        0   \n",
       "1                  0                0                  0        0   \n",
       "2                  0                0                  0        0   \n",
       "3                  0                0                  0        0   \n",
       "4                  0                1                  0        1   \n",
       "\n",
       "   image_picker  account_page_click  promo_banner_click  detail_wishlist_add  \\\n",
       "0             0                   0                   0                    0   \n",
       "1             0                   0                   0                    0   \n",
       "2             0                   0                   0                    0   \n",
       "3             0                   0                   0                    0   \n",
       "4             0                   0                   0                    0   \n",
       "\n",
       "   list_size_dropdown  closed_minibasket_click  ...  saw_sizecharts  \\\n",
       "0                   0                        0  ...               0   \n",
       "1                   0                        0  ...               0   \n",
       "2                   0                        0  ...               0   \n",
       "3                   0                        0  ...               0   \n",
       "4                   1                        0  ...               0   \n",
       "\n",
       "   saw_delivery  saw_account_upgrade  saw_homepage  device_mobile  \\\n",
       "0             0                    0             0              1   \n",
       "1             0                    0             0              1   \n",
       "2             0                    0             0              1   \n",
       "3             0                    0             0              1   \n",
       "4             0                    0             1              0   \n",
       "\n",
       "   device_computer  device_tablet  returning_user  loc_uk  ordered  \n",
       "0                0              0               0       1        0  \n",
       "1                0              0               0       1        0  \n",
       "2                0              0               1       1        0  \n",
       "3                0              0               1       1        0  \n",
       "4                0              1               0       1        1  \n",
       "\n",
       "[5 rows x 24 columns]"
      ]
     },
     "execution_count": 4,
     "metadata": {},
     "output_type": "execute_result"
    }
   ],
   "source": [
    "df_train = df_train.iloc[:, 1:]\n",
    "df_train.head()"
   ]
  },
  {
   "cell_type": "code",
   "execution_count": 33,
   "metadata": {},
   "outputs": [
    {
     "data": {
      "text/plain": [
       "basket_icon_click          int64\n",
       "basket_add_list            int64\n",
       "basket_add_detail          int64\n",
       "sort_by                    int64\n",
       "image_picker               int64\n",
       "account_page_click         int64\n",
       "promo_banner_click         int64\n",
       "detail_wishlist_add        int64\n",
       "list_size_dropdown         int64\n",
       "closed_minibasket_click    int64\n",
       "checked_delivery_detail    int64\n",
       "checked_returns_detail     int64\n",
       "sign_in                    int64\n",
       "saw_checkout               int64\n",
       "saw_sizecharts             int64\n",
       "saw_delivery               int64\n",
       "saw_account_upgrade        int64\n",
       "saw_homepage               int64\n",
       "device_mobile              int64\n",
       "device_computer            int64\n",
       "device_tablet              int64\n",
       "returning_user             int64\n",
       "loc_uk                     int64\n",
       "ordered                    int64\n",
       "dtype: object"
      ]
     },
     "execution_count": 33,
     "metadata": {},
     "output_type": "execute_result"
    }
   ],
   "source": [
    "df_train.dtypes"
   ]
  },
  {
   "cell_type": "code",
   "execution_count": 5,
   "metadata": {},
   "outputs": [],
   "source": [
    "select_cols = ['basket_icon_click', 'basket_add_list', 'basket_add_detail', 'sort_by', 'image_picker', 'account_page_click',\n",
    "               'promo_banner_click', 'detail_wishlist_add', 'list_size_dropdown', 'closed_minibasket_click', \n",
    "               'checked_returns_detail', 'saw_sizecharts', 'saw_delivery', 'saw_account_upgrade', 'saw_homepage',  \n",
    "               'device_computer', 'device_tablet', 'returning_user']"
   ]
  },
  {
   "cell_type": "code",
   "execution_count": 6,
   "metadata": {},
   "outputs": [
    {
     "name": "stdout",
     "output_type": "stream",
     "text": [
      "455401 24\n"
     ]
    }
   ],
   "source": [
    "N, D = df_train.shape\n",
    "print(N, D)\n",
    "\n",
    "X = df_train.loc[:, select_cols]\n",
    "y = df_train.iloc[:, -1]"
   ]
  },
  {
   "cell_type": "code",
   "execution_count": 26,
   "metadata": {},
   "outputs": [
    {
     "data": {
      "text/plain": [
       "(19093, 436308)"
      ]
     },
     "execution_count": 26,
     "metadata": {},
     "output_type": "execute_result"
    }
   ],
   "source": [
    "np.sum(y==1),np.sum(y==0)"
   ]
  },
  {
   "cell_type": "code",
   "execution_count": null,
   "metadata": {},
   "outputs": [],
   "source": [
    "from sklearn.model_selection import train_test_split\n",
    "X_train, X_test, y_train, y_test = train_test_split(X, y, test_size=0.3, random_state=123, stratify=y)"
   ]
  },
  {
   "cell_type": "code",
   "execution_count": null,
   "metadata": {},
   "outputs": [],
   "source": [
    "from sklearn import linear_model\n",
    "clf = linear_model.Lasso(alpha=0.1).fit(X_train, y_train)\n",
    "clf.coef_"
   ]
  },
  {
   "cell_type": "code",
   "execution_count": null,
   "metadata": {},
   "outputs": [],
   "source": [
    "from sklearn.metrics import recall_score\n",
    "from sklearn.naive_bayes import GaussianNB\n",
    "from sklearn.metrics import precision_score\n",
    "\n",
    "gnb = GaussianNB()\n",
    "y_pred = gnb.fit(X_train, y_train).predict(X_test)\n",
    "\n",
    "print(\"Recall = {}\".format(recall_score(y_test, y_pred, average='macro')))\n",
    "print(\"Precision = {}\".format(precision_score(y_test, y_pred, average='macro')))"
   ]
  },
  {
   "cell_type": "code",
   "execution_count": null,
   "metadata": {},
   "outputs": [],
   "source": [
    "from sklearn.linear_model import LogisticRegression\n",
    "clf = LogisticRegression().fit(X_train, y_train)\n",
    "y_pred = clf.predict(X_test)\n",
    "print(\"Recall = {}\".format(recall_score(y_test, y_pred, average='macro')))\n",
    "print(\"Precision = {}\".format(precision_score(y_test, y_pred, average='macro')))"
   ]
  },
  {
   "cell_type": "code",
   "execution_count": null,
   "metadata": {},
   "outputs": [],
   "source": [
    "from sklearn.svm import SVC\n",
    "\n",
    "clf = SVC(gamma='auto')\n",
    "clf.fit(X_train, y_train)\n",
    "\n",
    "y_pred = clf.predict(X_test)"
   ]
  }
 ],
 "metadata": {
  "kernelspec": {
   "display_name": "Python 3",
   "language": "python",
   "name": "python3"
  },
  "language_info": {
   "codemirror_mode": {
    "name": "ipython",
    "version": 3
   },
   "file_extension": ".py",
   "mimetype": "text/x-python",
   "name": "python",
   "nbconvert_exporter": "python",
   "pygments_lexer": "ipython3",
   "version": "3.8.11"
  }
 },
 "nbformat": 4,
 "nbformat_minor": 4
}
